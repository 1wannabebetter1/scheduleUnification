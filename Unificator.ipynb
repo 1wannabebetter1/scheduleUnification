{
 "cells": [
  {
   "cell_type": "code",
   "execution_count": 7,
   "metadata": {
    "collapsed": true
   },
   "outputs": [],
   "source": [
    "import pandas as pd"
   ]
  },
  {
   "cell_type": "markdown",
   "source": [
    "# Path to files"
   ],
   "metadata": {
    "collapsed": false
   }
  },
  {
   "cell_type": "code",
   "execution_count": 8,
   "outputs": [],
   "source": [
    "SCHEDULE_FOLDER = \"schedules/\"\n",
    "\n",
    "ECONOMICS_SCHEDULE = \"Econ.xlsx\"\n",
    "PE_SCHEDULE = \"ProgEng.xlsx\"\n",
    "\n",
    "economics_path =SCHEDULE_FOLDER+ECONOMICS_SCHEDULE\n",
    "pe_path = SCHEDULE_FOLDER + PE_SCHEDULE"
   ],
   "metadata": {
    "collapsed": false
   }
  },
  {
   "cell_type": "markdown",
   "source": [
    "# Creating tables"
   ],
   "metadata": {
    "collapsed": false
   }
  },
  {
   "cell_type": "markdown",
   "source": [
    "## Economics"
   ],
   "metadata": {
    "collapsed": false
   }
  },
  {
   "cell_type": "code",
   "execution_count": 11,
   "outputs": [
    {
     "data": {
      "text/plain": "          День          Час  \\\n0    Понеділок    8.30-9.50   \n1          NaN          NaN   \n2          NaN  10.00-11.20   \n3          NaN          NaN   \n4          NaN          NaN   \n..         ...          ...   \n104        NaN  11.40-13.00   \n105        NaN          NaN   \n106        NaN  13.30-14.50   \n107        NaN  15.00-16.20   \n108        NaN  16.30-17.50   \n\n                                  Дисципліна, викладач  \\\n0    Навчально-науковий семінар з економіки (екон.)...   \n1    Управління брендом роботодавця (мен.)\\n асист....   \n2    Макро- та мікроеконом. моделюв. (екон.) \\n ст....   \n3    Моделювання та управління фінансовими активами...   \n4    Маркетинг впливу (мар.) (Custumer experience) ...   \n..                                                 ...   \n104                                                NaN   \n105                                                NaN   \n106                                                NaN   \n107                                                NaN   \n108                                                NaN   \n\n                                            Unnamed: 3   Група Unnamed: 5  \\\n0                                                  NaN       1        NaN   \n1                                                  NaN  лекція        NaN   \n2                                                  NaN  лекція        NaN   \n3                                                  NaN  лекція        NaN   \n4                                                  NaN  лекція        NaN   \n..                                                 ...     ...        ...   \n104  Комп’ютерна бізнес-статистика \\n доц. Братик М.В.     NaN          2   \n105  Комп’ютерна бізнес-статистика \\n доц. Братик М.В.     NaN        2пр   \n106  Економіка підприємства (фін.) \\n ст. викл. Хра...     NaN     лекція   \n107  Економіка підприємства (фін.) \\n ст. викл. Хра...     NaN         3ф   \n108  Економіка підприємства (фін.) \\n ст. викл. Хра...     NaN         4ф   \n\n      Unnamed: 6 Тиждень Ауд. Unnamed: 9 Unnamed: 10  \n0            NaN    1-14    Д        NaN         NaN  \n1            NaN     3-9    Д        NaN         NaN  \n2            NaN     2-9    Д        NaN         NaN  \n3            NaN    1-11    Д        NaN         NaN  \n4            NaN   2,3,4    Д        NaN         NaN  \n..           ...     ...  ...        ...         ...  \n104  2,4,5,6,7,8     NaN  NaN        NaN           Д  \n105         9-13     NaN  NaN        NaN           Д  \n106          2-9     NaN  NaN        NaN           Д  \n107          3-9     NaN  NaN        NaN           Д  \n108          3-9     NaN  NaN        NaN           Д  \n\n[109 rows x 11 columns]",
      "text/html": "<div>\n<style scoped>\n    .dataframe tbody tr th:only-of-type {\n        vertical-align: middle;\n    }\n\n    .dataframe tbody tr th {\n        vertical-align: top;\n    }\n\n    .dataframe thead th {\n        text-align: right;\n    }\n</style>\n<table border=\"1\" class=\"dataframe\">\n  <thead>\n    <tr style=\"text-align: right;\">\n      <th></th>\n      <th>День</th>\n      <th>Час</th>\n      <th>Дисципліна, викладач</th>\n      <th>Unnamed: 3</th>\n      <th>Група</th>\n      <th>Unnamed: 5</th>\n      <th>Unnamed: 6</th>\n      <th>Тиждень</th>\n      <th>Ауд.</th>\n      <th>Unnamed: 9</th>\n      <th>Unnamed: 10</th>\n    </tr>\n  </thead>\n  <tbody>\n    <tr>\n      <th>0</th>\n      <td>Понеділок</td>\n      <td>8.30-9.50</td>\n      <td>Навчально-науковий семінар з економіки (екон.)...</td>\n      <td>NaN</td>\n      <td>1</td>\n      <td>NaN</td>\n      <td>NaN</td>\n      <td>1-14</td>\n      <td>Д</td>\n      <td>NaN</td>\n      <td>NaN</td>\n    </tr>\n    <tr>\n      <th>1</th>\n      <td>NaN</td>\n      <td>NaN</td>\n      <td>Управління брендом роботодавця (мен.)\\n асист....</td>\n      <td>NaN</td>\n      <td>лекція</td>\n      <td>NaN</td>\n      <td>NaN</td>\n      <td>3-9</td>\n      <td>Д</td>\n      <td>NaN</td>\n      <td>NaN</td>\n    </tr>\n    <tr>\n      <th>2</th>\n      <td>NaN</td>\n      <td>10.00-11.20</td>\n      <td>Макро- та мікроеконом. моделюв. (екон.) \\n ст....</td>\n      <td>NaN</td>\n      <td>лекція</td>\n      <td>NaN</td>\n      <td>NaN</td>\n      <td>2-9</td>\n      <td>Д</td>\n      <td>NaN</td>\n      <td>NaN</td>\n    </tr>\n    <tr>\n      <th>3</th>\n      <td>NaN</td>\n      <td>NaN</td>\n      <td>Моделювання та управління фінансовими активами...</td>\n      <td>NaN</td>\n      <td>лекція</td>\n      <td>NaN</td>\n      <td>NaN</td>\n      <td>1-11</td>\n      <td>Д</td>\n      <td>NaN</td>\n      <td>NaN</td>\n    </tr>\n    <tr>\n      <th>4</th>\n      <td>NaN</td>\n      <td>NaN</td>\n      <td>Маркетинг впливу (мар.) (Custumer experience) ...</td>\n      <td>NaN</td>\n      <td>лекція</td>\n      <td>NaN</td>\n      <td>NaN</td>\n      <td>2,3,4</td>\n      <td>Д</td>\n      <td>NaN</td>\n      <td>NaN</td>\n    </tr>\n    <tr>\n      <th>...</th>\n      <td>...</td>\n      <td>...</td>\n      <td>...</td>\n      <td>...</td>\n      <td>...</td>\n      <td>...</td>\n      <td>...</td>\n      <td>...</td>\n      <td>...</td>\n      <td>...</td>\n      <td>...</td>\n    </tr>\n    <tr>\n      <th>104</th>\n      <td>NaN</td>\n      <td>11.40-13.00</td>\n      <td>NaN</td>\n      <td>Комп’ютерна бізнес-статистика \\n доц. Братик М.В.</td>\n      <td>NaN</td>\n      <td>2</td>\n      <td>2,4,5,6,7,8</td>\n      <td>NaN</td>\n      <td>NaN</td>\n      <td>NaN</td>\n      <td>Д</td>\n    </tr>\n    <tr>\n      <th>105</th>\n      <td>NaN</td>\n      <td>NaN</td>\n      <td>NaN</td>\n      <td>Комп’ютерна бізнес-статистика \\n доц. Братик М.В.</td>\n      <td>NaN</td>\n      <td>2пр</td>\n      <td>9-13</td>\n      <td>NaN</td>\n      <td>NaN</td>\n      <td>NaN</td>\n      <td>Д</td>\n    </tr>\n    <tr>\n      <th>106</th>\n      <td>NaN</td>\n      <td>13.30-14.50</td>\n      <td>NaN</td>\n      <td>Економіка підприємства (фін.) \\n ст. викл. Хра...</td>\n      <td>NaN</td>\n      <td>лекція</td>\n      <td>2-9</td>\n      <td>NaN</td>\n      <td>NaN</td>\n      <td>NaN</td>\n      <td>Д</td>\n    </tr>\n    <tr>\n      <th>107</th>\n      <td>NaN</td>\n      <td>15.00-16.20</td>\n      <td>NaN</td>\n      <td>Економіка підприємства (фін.) \\n ст. викл. Хра...</td>\n      <td>NaN</td>\n      <td>3ф</td>\n      <td>3-9</td>\n      <td>NaN</td>\n      <td>NaN</td>\n      <td>NaN</td>\n      <td>Д</td>\n    </tr>\n    <tr>\n      <th>108</th>\n      <td>NaN</td>\n      <td>16.30-17.50</td>\n      <td>NaN</td>\n      <td>Економіка підприємства (фін.) \\n ст. викл. Хра...</td>\n      <td>NaN</td>\n      <td>4ф</td>\n      <td>3-9</td>\n      <td>NaN</td>\n      <td>NaN</td>\n      <td>NaN</td>\n      <td>Д</td>\n    </tr>\n  </tbody>\n</table>\n<p>109 rows × 11 columns</p>\n</div>"
     },
     "execution_count": 11,
     "metadata": {},
     "output_type": "execute_result"
    }
   ],
   "source": [
    "econ_df = pd.read_excel(economics_path)\n",
    "econ_df"
   ],
   "metadata": {
    "collapsed": false
   }
  },
  {
   "cell_type": "markdown",
   "source": [
    "## Program engineering"
   ],
   "metadata": {
    "collapsed": false
   }
  },
  {
   "cell_type": "code",
   "execution_count": 12,
   "outputs": [
    {
     "data": {
      "text/plain": "               Unnamed: 0   Unnamed: 1  \\\n0                     NaN          NaN   \n1                     NaN          NaN   \n2                     NaN          NaN   \n3                     NaN          NaN   \n4   Факультет інформатики          NaN   \n..                    ...          ...   \n67                    NaN  13:30-14:50   \n68                    NaN          NaN   \n69                    NaN  15:00-16:20   \n70                    NaN  16:30-17:50   \n71                    NaN          NaN   \n\n                                           ЗАТВЕРДЖУЮ Unnamed: 3 Unnamed: 4  \\\n0              Декан факультету________А.М. Глибовець        NaN        NaN   \n1                                                 NaN        NaN        NaN   \n2                                \" 24 \" серпня 2023р.        NaN        NaN   \n3                                                 NaN        NaN        NaN   \n4                                                 NaN        NaN        NaN   \n..                                                ...        ...        ...   \n67  Інформаційна безпека веб-застосунків, ас. О.В,...          5       1-10   \n68                                                NaN        NaN        NaN   \n69  Інформаційна безпека веб-застосунків, ас. О.В,...          6       1-10   \n70                                                NaN        NaN        NaN   \n71  Інформаційна безпека веб-застосунків, ас. О.В,...          7       1-10   \n\n     Unnamed: 5  \n0           NaN  \n1           NaN  \n2           NaN  \n3           NaN  \n4           NaN  \n..          ...  \n67  Дистанційно  \n68          NaN  \n69  Дистанційно  \n70          NaN  \n71  Дистанційно  \n\n[72 rows x 6 columns]",
      "text/html": "<div>\n<style scoped>\n    .dataframe tbody tr th:only-of-type {\n        vertical-align: middle;\n    }\n\n    .dataframe tbody tr th {\n        vertical-align: top;\n    }\n\n    .dataframe thead th {\n        text-align: right;\n    }\n</style>\n<table border=\"1\" class=\"dataframe\">\n  <thead>\n    <tr style=\"text-align: right;\">\n      <th></th>\n      <th>Unnamed: 0</th>\n      <th>Unnamed: 1</th>\n      <th>ЗАТВЕРДЖУЮ</th>\n      <th>Unnamed: 3</th>\n      <th>Unnamed: 4</th>\n      <th>Unnamed: 5</th>\n    </tr>\n  </thead>\n  <tbody>\n    <tr>\n      <th>0</th>\n      <td>NaN</td>\n      <td>NaN</td>\n      <td>Декан факультету________А.М. Глибовець</td>\n      <td>NaN</td>\n      <td>NaN</td>\n      <td>NaN</td>\n    </tr>\n    <tr>\n      <th>1</th>\n      <td>NaN</td>\n      <td>NaN</td>\n      <td>NaN</td>\n      <td>NaN</td>\n      <td>NaN</td>\n      <td>NaN</td>\n    </tr>\n    <tr>\n      <th>2</th>\n      <td>NaN</td>\n      <td>NaN</td>\n      <td>\" 24 \" серпня 2023р.</td>\n      <td>NaN</td>\n      <td>NaN</td>\n      <td>NaN</td>\n    </tr>\n    <tr>\n      <th>3</th>\n      <td>NaN</td>\n      <td>NaN</td>\n      <td>NaN</td>\n      <td>NaN</td>\n      <td>NaN</td>\n      <td>NaN</td>\n    </tr>\n    <tr>\n      <th>4</th>\n      <td>Факультет інформатики</td>\n      <td>NaN</td>\n      <td>NaN</td>\n      <td>NaN</td>\n      <td>NaN</td>\n      <td>NaN</td>\n    </tr>\n    <tr>\n      <th>...</th>\n      <td>...</td>\n      <td>...</td>\n      <td>...</td>\n      <td>...</td>\n      <td>...</td>\n      <td>...</td>\n    </tr>\n    <tr>\n      <th>67</th>\n      <td>NaN</td>\n      <td>13:30-14:50</td>\n      <td>Інформаційна безпека веб-застосунків, ас. О.В,...</td>\n      <td>5</td>\n      <td>1-10</td>\n      <td>Дистанційно</td>\n    </tr>\n    <tr>\n      <th>68</th>\n      <td>NaN</td>\n      <td>NaN</td>\n      <td>NaN</td>\n      <td>NaN</td>\n      <td>NaN</td>\n      <td>NaN</td>\n    </tr>\n    <tr>\n      <th>69</th>\n      <td>NaN</td>\n      <td>15:00-16:20</td>\n      <td>Інформаційна безпека веб-застосунків, ас. О.В,...</td>\n      <td>6</td>\n      <td>1-10</td>\n      <td>Дистанційно</td>\n    </tr>\n    <tr>\n      <th>70</th>\n      <td>NaN</td>\n      <td>16:30-17:50</td>\n      <td>NaN</td>\n      <td>NaN</td>\n      <td>NaN</td>\n      <td>NaN</td>\n    </tr>\n    <tr>\n      <th>71</th>\n      <td>NaN</td>\n      <td>NaN</td>\n      <td>Інформаційна безпека веб-застосунків, ас. О.В,...</td>\n      <td>7</td>\n      <td>1-10</td>\n      <td>Дистанційно</td>\n    </tr>\n  </tbody>\n</table>\n<p>72 rows × 6 columns</p>\n</div>"
     },
     "execution_count": 12,
     "metadata": {},
     "output_type": "execute_result"
    }
   ],
   "source": [
    "pe_df = pd.read_excel(pe_path)\n",
    "pe_df"
   ],
   "metadata": {
    "collapsed": false
   }
  },
  {
   "cell_type": "code",
   "execution_count": 14,
   "outputs": [
    {
     "data": {
      "text/plain": "               Unnamed: 0   Unnamed: 1  \\\n0                     NaN          NaN   \n1                     NaN          NaN   \n2                     NaN          NaN   \n3                     NaN          NaN   \n4   Факультет інформатики          NaN   \n..                    ...          ...   \n67                    NaN  13:30-14:50   \n68                    NaN          NaN   \n69                    NaN  15:00-16:20   \n70                    NaN  16:30-17:50   \n71                    NaN          NaN   \n\n                                           ЗАТВЕРДЖУЮ Unnamed: 3 Unnamed: 4  \\\n0              Декан факультету________А.М. Глибовець        NaN        NaN   \n1                                                 NaN        NaN        NaN   \n2                                \" 24 \" серпня 2023р.        NaN        NaN   \n3                                                 NaN        NaN        NaN   \n4                                                 NaN        NaN        NaN   \n..                                                ...        ...        ...   \n67  Інформаційна безпека веб-застосунків, ас. О.В,...          5       1-10   \n68                                                NaN        NaN        NaN   \n69  Інформаційна безпека веб-застосунків, ас. О.В,...          6       1-10   \n70                                                NaN        NaN        NaN   \n71  Інформаційна безпека веб-застосунків, ас. О.В,...          7       1-10   \n\n     Unnamed: 5  \n0           NaN  \n1           NaN  \n2           NaN  \n3           NaN  \n4           NaN  \n..          ...  \n67  Дистанційно  \n68          NaN  \n69  Дистанційно  \n70          NaN  \n71  Дистанційно  \n\n[72 rows x 6 columns]",
      "text/html": "<div>\n<style scoped>\n    .dataframe tbody tr th:only-of-type {\n        vertical-align: middle;\n    }\n\n    .dataframe tbody tr th {\n        vertical-align: top;\n    }\n\n    .dataframe thead th {\n        text-align: right;\n    }\n</style>\n<table border=\"1\" class=\"dataframe\">\n  <thead>\n    <tr style=\"text-align: right;\">\n      <th></th>\n      <th>Unnamed: 0</th>\n      <th>Unnamed: 1</th>\n      <th>ЗАТВЕРДЖУЮ</th>\n      <th>Unnamed: 3</th>\n      <th>Unnamed: 4</th>\n      <th>Unnamed: 5</th>\n    </tr>\n  </thead>\n  <tbody>\n    <tr>\n      <th>0</th>\n      <td>NaN</td>\n      <td>NaN</td>\n      <td>Декан факультету________А.М. Глибовець</td>\n      <td>NaN</td>\n      <td>NaN</td>\n      <td>NaN</td>\n    </tr>\n    <tr>\n      <th>1</th>\n      <td>NaN</td>\n      <td>NaN</td>\n      <td>NaN</td>\n      <td>NaN</td>\n      <td>NaN</td>\n      <td>NaN</td>\n    </tr>\n    <tr>\n      <th>2</th>\n      <td>NaN</td>\n      <td>NaN</td>\n      <td>\" 24 \" серпня 2023р.</td>\n      <td>NaN</td>\n      <td>NaN</td>\n      <td>NaN</td>\n    </tr>\n    <tr>\n      <th>3</th>\n      <td>NaN</td>\n      <td>NaN</td>\n      <td>NaN</td>\n      <td>NaN</td>\n      <td>NaN</td>\n      <td>NaN</td>\n    </tr>\n    <tr>\n      <th>4</th>\n      <td>Факультет інформатики</td>\n      <td>NaN</td>\n      <td>NaN</td>\n      <td>NaN</td>\n      <td>NaN</td>\n      <td>NaN</td>\n    </tr>\n    <tr>\n      <th>...</th>\n      <td>...</td>\n      <td>...</td>\n      <td>...</td>\n      <td>...</td>\n      <td>...</td>\n      <td>...</td>\n    </tr>\n    <tr>\n      <th>67</th>\n      <td>NaN</td>\n      <td>13:30-14:50</td>\n      <td>Інформаційна безпека веб-застосунків, ас. О.В,...</td>\n      <td>5</td>\n      <td>1-10</td>\n      <td>Дистанційно</td>\n    </tr>\n    <tr>\n      <th>68</th>\n      <td>NaN</td>\n      <td>NaN</td>\n      <td>NaN</td>\n      <td>NaN</td>\n      <td>NaN</td>\n      <td>NaN</td>\n    </tr>\n    <tr>\n      <th>69</th>\n      <td>NaN</td>\n      <td>15:00-16:20</td>\n      <td>Інформаційна безпека веб-застосунків, ас. О.В,...</td>\n      <td>6</td>\n      <td>1-10</td>\n      <td>Дистанційно</td>\n    </tr>\n    <tr>\n      <th>70</th>\n      <td>NaN</td>\n      <td>16:30-17:50</td>\n      <td>NaN</td>\n      <td>NaN</td>\n      <td>NaN</td>\n      <td>NaN</td>\n    </tr>\n    <tr>\n      <th>71</th>\n      <td>NaN</td>\n      <td>NaN</td>\n      <td>Інформаційна безпека веб-застосунків, ас. О.В,...</td>\n      <td>7</td>\n      <td>1-10</td>\n      <td>Дистанційно</td>\n    </tr>\n  </tbody>\n</table>\n<p>72 rows × 6 columns</p>\n</div>"
     },
     "execution_count": 14,
     "metadata": {},
     "output_type": "execute_result"
    }
   ],
   "source": [
    "pe_df.drop([0,1])\n",
    "pe_df"
   ],
   "metadata": {
    "collapsed": false
   }
  },
  {
   "cell_type": "code",
   "execution_count": 15,
   "outputs": [
    {
     "data": {
      "text/plain": "               Unnamed: 0   Unnamed: 1  \\\n0                     NaN          NaN   \n1                     NaN          NaN   \n2                     NaN          NaN   \n3                     NaN          NaN   \n4   Факультет інформатики          NaN   \n..                    ...          ...   \n67                    NaN  13:30-14:50   \n68                    NaN          NaN   \n69                    NaN  15:00-16:20   \n70                    NaN  16:30-17:50   \n71                    NaN          NaN   \n\n                                           ЗАТВЕРДЖУЮ Unnamed: 3 Unnamed: 4  \\\n0              Декан факультету________А.М. Глибовець        NaN        NaN   \n1                                                 NaN        NaN        NaN   \n2                                \" 24 \" серпня 2023р.        NaN        NaN   \n3                                                 NaN        NaN        NaN   \n4                                                 NaN        NaN        NaN   \n..                                                ...        ...        ...   \n67  Інформаційна безпека веб-застосунків, ас. О.В,...          5       1-10   \n68                                                NaN        NaN        NaN   \n69  Інформаційна безпека веб-застосунків, ас. О.В,...          6       1-10   \n70                                                NaN        NaN        NaN   \n71  Інформаційна безпека веб-застосунків, ас. О.В,...          7       1-10   \n\n     Unnamed: 5  \n0           NaN  \n1           NaN  \n2           NaN  \n3           NaN  \n4           NaN  \n..          ...  \n67  Дистанційно  \n68          NaN  \n69  Дистанційно  \n70          NaN  \n71  Дистанційно  \n\n[72 rows x 6 columns]",
      "text/html": "<div>\n<style scoped>\n    .dataframe tbody tr th:only-of-type {\n        vertical-align: middle;\n    }\n\n    .dataframe tbody tr th {\n        vertical-align: top;\n    }\n\n    .dataframe thead th {\n        text-align: right;\n    }\n</style>\n<table border=\"1\" class=\"dataframe\">\n  <thead>\n    <tr style=\"text-align: right;\">\n      <th></th>\n      <th>Unnamed: 0</th>\n      <th>Unnamed: 1</th>\n      <th>ЗАТВЕРДЖУЮ</th>\n      <th>Unnamed: 3</th>\n      <th>Unnamed: 4</th>\n      <th>Unnamed: 5</th>\n    </tr>\n  </thead>\n  <tbody>\n    <tr>\n      <th>0</th>\n      <td>NaN</td>\n      <td>NaN</td>\n      <td>Декан факультету________А.М. Глибовець</td>\n      <td>NaN</td>\n      <td>NaN</td>\n      <td>NaN</td>\n    </tr>\n    <tr>\n      <th>1</th>\n      <td>NaN</td>\n      <td>NaN</td>\n      <td>NaN</td>\n      <td>NaN</td>\n      <td>NaN</td>\n      <td>NaN</td>\n    </tr>\n    <tr>\n      <th>2</th>\n      <td>NaN</td>\n      <td>NaN</td>\n      <td>\" 24 \" серпня 2023р.</td>\n      <td>NaN</td>\n      <td>NaN</td>\n      <td>NaN</td>\n    </tr>\n    <tr>\n      <th>3</th>\n      <td>NaN</td>\n      <td>NaN</td>\n      <td>NaN</td>\n      <td>NaN</td>\n      <td>NaN</td>\n      <td>NaN</td>\n    </tr>\n    <tr>\n      <th>4</th>\n      <td>Факультет інформатики</td>\n      <td>NaN</td>\n      <td>NaN</td>\n      <td>NaN</td>\n      <td>NaN</td>\n      <td>NaN</td>\n    </tr>\n    <tr>\n      <th>...</th>\n      <td>...</td>\n      <td>...</td>\n      <td>...</td>\n      <td>...</td>\n      <td>...</td>\n      <td>...</td>\n    </tr>\n    <tr>\n      <th>67</th>\n      <td>NaN</td>\n      <td>13:30-14:50</td>\n      <td>Інформаційна безпека веб-застосунків, ас. О.В,...</td>\n      <td>5</td>\n      <td>1-10</td>\n      <td>Дистанційно</td>\n    </tr>\n    <tr>\n      <th>68</th>\n      <td>NaN</td>\n      <td>NaN</td>\n      <td>NaN</td>\n      <td>NaN</td>\n      <td>NaN</td>\n      <td>NaN</td>\n    </tr>\n    <tr>\n      <th>69</th>\n      <td>NaN</td>\n      <td>15:00-16:20</td>\n      <td>Інформаційна безпека веб-застосунків, ас. О.В,...</td>\n      <td>6</td>\n      <td>1-10</td>\n      <td>Дистанційно</td>\n    </tr>\n    <tr>\n      <th>70</th>\n      <td>NaN</td>\n      <td>16:30-17:50</td>\n      <td>NaN</td>\n      <td>NaN</td>\n      <td>NaN</td>\n      <td>NaN</td>\n    </tr>\n    <tr>\n      <th>71</th>\n      <td>NaN</td>\n      <td>NaN</td>\n      <td>Інформаційна безпека веб-застосунків, ас. О.В,...</td>\n      <td>7</td>\n      <td>1-10</td>\n      <td>Дистанційно</td>\n    </tr>\n  </tbody>\n</table>\n<p>72 rows × 6 columns</p>\n</div>"
     },
     "execution_count": 15,
     "metadata": {},
     "output_type": "execute_result"
    }
   ],
   "source": [
    "pe_df.drop([0,1,2,3,4,5,6,7])\n",
    "pe_df"
   ],
   "metadata": {
    "collapsed": false
   }
  },
  {
   "cell_type": "code",
   "execution_count": 21,
   "outputs": [
    {
     "data": {
      "text/plain": "   Unnamed: 0   Unnamed: 1                                         ЗАТВЕРДЖУЮ  \\\n8        День          Час                               Дисципліна, викладач   \n9   Понеділок    8:30-9:50                                                NaN   \n10        NaN  10:00-11:20  Методи об'єктно-орієнтованого програмування, д...   \n11        NaN  11:40-13:00  Методи об'єктно-орієнтованого програмування, д...   \n12        NaN  13:30-14:50          Системне програмування, доц. О.П. Жежерун   \n..        ...          ...                                                ...   \n67        NaN  13:30-14:50  Інформаційна безпека веб-застосунків, ас. О.В,...   \n68        NaN          NaN                                                NaN   \n69        NaN  15:00-16:20  Інформаційна безпека веб-застосунків, ас. О.В,...   \n70        NaN  16:30-17:50                                                NaN   \n71        NaN          NaN  Інформаційна безпека веб-застосунків, ас. О.В,...   \n\n   Unnamed: 3 Unnamed: 4   Unnamed: 5  \n8       Група      Тижні    Аудиторія  \n9         NaN        NaN          NaN  \n10     лекція       1-11  Дистанційно  \n11          1       1-10  Дистанційно  \n12     лекція       1-10  Дистанційно  \n..        ...        ...          ...  \n67          5       1-10  Дистанційно  \n68        NaN        NaN          NaN  \n69          6       1-10  Дистанційно  \n70        NaN        NaN          NaN  \n71          7       1-10  Дистанційно  \n\n[64 rows x 6 columns]",
      "text/html": "<div>\n<style scoped>\n    .dataframe tbody tr th:only-of-type {\n        vertical-align: middle;\n    }\n\n    .dataframe tbody tr th {\n        vertical-align: top;\n    }\n\n    .dataframe thead th {\n        text-align: right;\n    }\n</style>\n<table border=\"1\" class=\"dataframe\">\n  <thead>\n    <tr style=\"text-align: right;\">\n      <th></th>\n      <th>Unnamed: 0</th>\n      <th>Unnamed: 1</th>\n      <th>ЗАТВЕРДЖУЮ</th>\n      <th>Unnamed: 3</th>\n      <th>Unnamed: 4</th>\n      <th>Unnamed: 5</th>\n    </tr>\n  </thead>\n  <tbody>\n    <tr>\n      <th>8</th>\n      <td>День</td>\n      <td>Час</td>\n      <td>Дисципліна, викладач</td>\n      <td>Група</td>\n      <td>Тижні</td>\n      <td>Аудиторія</td>\n    </tr>\n    <tr>\n      <th>9</th>\n      <td>Понеділок</td>\n      <td>8:30-9:50</td>\n      <td>NaN</td>\n      <td>NaN</td>\n      <td>NaN</td>\n      <td>NaN</td>\n    </tr>\n    <tr>\n      <th>10</th>\n      <td>NaN</td>\n      <td>10:00-11:20</td>\n      <td>Методи об'єктно-орієнтованого програмування, д...</td>\n      <td>лекція</td>\n      <td>1-11</td>\n      <td>Дистанційно</td>\n    </tr>\n    <tr>\n      <th>11</th>\n      <td>NaN</td>\n      <td>11:40-13:00</td>\n      <td>Методи об'єктно-орієнтованого програмування, д...</td>\n      <td>1</td>\n      <td>1-10</td>\n      <td>Дистанційно</td>\n    </tr>\n    <tr>\n      <th>12</th>\n      <td>NaN</td>\n      <td>13:30-14:50</td>\n      <td>Системне програмування, доц. О.П. Жежерун</td>\n      <td>лекція</td>\n      <td>1-10</td>\n      <td>Дистанційно</td>\n    </tr>\n    <tr>\n      <th>...</th>\n      <td>...</td>\n      <td>...</td>\n      <td>...</td>\n      <td>...</td>\n      <td>...</td>\n      <td>...</td>\n    </tr>\n    <tr>\n      <th>67</th>\n      <td>NaN</td>\n      <td>13:30-14:50</td>\n      <td>Інформаційна безпека веб-застосунків, ас. О.В,...</td>\n      <td>5</td>\n      <td>1-10</td>\n      <td>Дистанційно</td>\n    </tr>\n    <tr>\n      <th>68</th>\n      <td>NaN</td>\n      <td>NaN</td>\n      <td>NaN</td>\n      <td>NaN</td>\n      <td>NaN</td>\n      <td>NaN</td>\n    </tr>\n    <tr>\n      <th>69</th>\n      <td>NaN</td>\n      <td>15:00-16:20</td>\n      <td>Інформаційна безпека веб-застосунків, ас. О.В,...</td>\n      <td>6</td>\n      <td>1-10</td>\n      <td>Дистанційно</td>\n    </tr>\n    <tr>\n      <th>70</th>\n      <td>NaN</td>\n      <td>16:30-17:50</td>\n      <td>NaN</td>\n      <td>NaN</td>\n      <td>NaN</td>\n      <td>NaN</td>\n    </tr>\n    <tr>\n      <th>71</th>\n      <td>NaN</td>\n      <td>NaN</td>\n      <td>Інформаційна безпека веб-застосунків, ас. О.В,...</td>\n      <td>7</td>\n      <td>1-10</td>\n      <td>Дистанційно</td>\n    </tr>\n  </tbody>\n</table>\n<p>64 rows × 6 columns</p>\n</div>"
     },
     "execution_count": 21,
     "metadata": {},
     "output_type": "execute_result"
    }
   ],
   "source": [
    "df1=pe_df.drop(range(0,8))\n",
    "df1"
   ],
   "metadata": {
    "collapsed": false
   }
  },
  {
   "cell_type": "code",
   "execution_count": 24,
   "outputs": [
    {
     "data": {
      "text/plain": "8        День          Час                               Дисципліна, викладач  \\\n9   Понеділок    8:30-9:50                                                NaN   \n10        NaN  10:00-11:20  Методи об'єктно-орієнтованого програмування, д...   \n11        NaN  11:40-13:00  Методи об'єктно-орієнтованого програмування, д...   \n12        NaN  13:30-14:50          Системне програмування, доц. О.П. Жежерун   \n13        NaN  15:00-16:20          Системне програмування, доц. О.П. Жежерун   \n..        ...          ...                                                ...   \n67        NaN  13:30-14:50  Інформаційна безпека веб-застосунків, ас. О.В,...   \n68        NaN          NaN                                                NaN   \n69        NaN  15:00-16:20  Інформаційна безпека веб-застосунків, ас. О.В,...   \n70        NaN  16:30-17:50                                                NaN   \n71        NaN          NaN  Інформаційна безпека веб-застосунків, ас. О.В,...   \n\n8    Група Тижні    Аудиторія  \n9      NaN   NaN          NaN  \n10  лекція  1-11  Дистанційно  \n11       1  1-10  Дистанційно  \n12  лекція  1-10  Дистанційно  \n13       1  1-11  Дистанційно  \n..     ...   ...          ...  \n67       5  1-10  Дистанційно  \n68     NaN   NaN          NaN  \n69       6  1-10  Дистанційно  \n70     NaN   NaN          NaN  \n71       7  1-10  Дистанційно  \n\n[63 rows x 6 columns]",
      "text/html": "<div>\n<style scoped>\n    .dataframe tbody tr th:only-of-type {\n        vertical-align: middle;\n    }\n\n    .dataframe tbody tr th {\n        vertical-align: top;\n    }\n\n    .dataframe thead th {\n        text-align: right;\n    }\n</style>\n<table border=\"1\" class=\"dataframe\">\n  <thead>\n    <tr style=\"text-align: right;\">\n      <th>8</th>\n      <th>День</th>\n      <th>Час</th>\n      <th>Дисципліна, викладач</th>\n      <th>Група</th>\n      <th>Тижні</th>\n      <th>Аудиторія</th>\n    </tr>\n  </thead>\n  <tbody>\n    <tr>\n      <th>9</th>\n      <td>Понеділок</td>\n      <td>8:30-9:50</td>\n      <td>NaN</td>\n      <td>NaN</td>\n      <td>NaN</td>\n      <td>NaN</td>\n    </tr>\n    <tr>\n      <th>10</th>\n      <td>NaN</td>\n      <td>10:00-11:20</td>\n      <td>Методи об'єктно-орієнтованого програмування, д...</td>\n      <td>лекція</td>\n      <td>1-11</td>\n      <td>Дистанційно</td>\n    </tr>\n    <tr>\n      <th>11</th>\n      <td>NaN</td>\n      <td>11:40-13:00</td>\n      <td>Методи об'єктно-орієнтованого програмування, д...</td>\n      <td>1</td>\n      <td>1-10</td>\n      <td>Дистанційно</td>\n    </tr>\n    <tr>\n      <th>12</th>\n      <td>NaN</td>\n      <td>13:30-14:50</td>\n      <td>Системне програмування, доц. О.П. Жежерун</td>\n      <td>лекція</td>\n      <td>1-10</td>\n      <td>Дистанційно</td>\n    </tr>\n    <tr>\n      <th>13</th>\n      <td>NaN</td>\n      <td>15:00-16:20</td>\n      <td>Системне програмування, доц. О.П. Жежерун</td>\n      <td>1</td>\n      <td>1-11</td>\n      <td>Дистанційно</td>\n    </tr>\n    <tr>\n      <th>...</th>\n      <td>...</td>\n      <td>...</td>\n      <td>...</td>\n      <td>...</td>\n      <td>...</td>\n      <td>...</td>\n    </tr>\n    <tr>\n      <th>67</th>\n      <td>NaN</td>\n      <td>13:30-14:50</td>\n      <td>Інформаційна безпека веб-застосунків, ас. О.В,...</td>\n      <td>5</td>\n      <td>1-10</td>\n      <td>Дистанційно</td>\n    </tr>\n    <tr>\n      <th>68</th>\n      <td>NaN</td>\n      <td>NaN</td>\n      <td>NaN</td>\n      <td>NaN</td>\n      <td>NaN</td>\n      <td>NaN</td>\n    </tr>\n    <tr>\n      <th>69</th>\n      <td>NaN</td>\n      <td>15:00-16:20</td>\n      <td>Інформаційна безпека веб-застосунків, ас. О.В,...</td>\n      <td>6</td>\n      <td>1-10</td>\n      <td>Дистанційно</td>\n    </tr>\n    <tr>\n      <th>70</th>\n      <td>NaN</td>\n      <td>16:30-17:50</td>\n      <td>NaN</td>\n      <td>NaN</td>\n      <td>NaN</td>\n      <td>NaN</td>\n    </tr>\n    <tr>\n      <th>71</th>\n      <td>NaN</td>\n      <td>NaN</td>\n      <td>Інформаційна безпека веб-застосунків, ас. О.В,...</td>\n      <td>7</td>\n      <td>1-10</td>\n      <td>Дистанційно</td>\n    </tr>\n  </tbody>\n</table>\n<p>63 rows × 6 columns</p>\n</div>"
     },
     "execution_count": 24,
     "metadata": {},
     "output_type": "execute_result"
    }
   ],
   "source": [
    "df1.columns = df1.iloc[0]\n",
    "df1=df1.drop([8])\n",
    "df1"
   ],
   "metadata": {
    "collapsed": false
   }
  },
  {
   "cell_type": "markdown",
   "source": [],
   "metadata": {
    "collapsed": false
   }
  }
 ],
 "metadata": {
  "kernelspec": {
   "display_name": "Python 3",
   "language": "python",
   "name": "python3"
  },
  "language_info": {
   "codemirror_mode": {
    "name": "ipython",
    "version": 2
   },
   "file_extension": ".py",
   "mimetype": "text/x-python",
   "name": "python",
   "nbconvert_exporter": "python",
   "pygments_lexer": "ipython2",
   "version": "2.7.6"
  }
 },
 "nbformat": 4,
 "nbformat_minor": 0
}
